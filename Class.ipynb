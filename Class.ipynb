{
  "nbformat": 4,
  "nbformat_minor": 0,
  "metadata": {
    "colab": {
      "name": "Class.ipynb",
      "provenance": [],
      "authorship_tag": "ABX9TyPeuRWIIOCv73Orc3B/sf2D",
      "include_colab_link": true
    },
    "kernelspec": {
      "name": "python3",
      "display_name": "Python 3"
    },
    "language_info": {
      "name": "python"
    }
  },
  "cells": [
    {
      "cell_type": "markdown",
      "metadata": {
        "id": "view-in-github",
        "colab_type": "text"
      },
      "source": [
        "<a href=\"https://colab.research.google.com/github/dhaffaardhana2002/learn/blob/master/Class.ipynb\" target=\"_parent\"><img src=\"https://colab.research.google.com/assets/colab-badge.svg\" alt=\"Open In Colab\"/></a>"
      ]
    },
    {
      "cell_type": "code",
      "metadata": {
        "colab": {
          "base_uri": "https://localhost:8080/"
        },
        "id": "Q1lTRi0r2gn-",
        "outputId": "b9a0ac84-8a6e-414f-c80a-d80f7e65b89d"
      },
      "source": [
        "class Mahasiswa:\n",
        "\tjumlah_mahasiswa = 0\n",
        "\n",
        "\tdef __init__(self, nama, umur):\n",
        "\t\tself.nama = nama\n",
        "\t\tself.umur = umur\n",
        "\t\tMahasiswa.jumlah_mahasiswa += 1\n",
        "\n",
        "\tdef tampilkanData(self):\n",
        "\t\tprint(f\"Nama: {self.nama}, Umur: {self.umur}\")\n",
        "\n",
        "\tdef tampilkanNama(self):\n",
        "\t\tprint(f\"Nama mahasiswa: {self.nama}\")\n",
        "\n",
        "\tdef tampilkanJumlah():\n",
        "\t\tprint(f\"Jumlah mahasiswa adalah {Mahasiswa.jumlah_mahasiswa}\")\n",
        "\n",
        "data_nama = ['Dhaffa','Deni','Budi','Dian','Mulan']\n",
        "data_umur = [19,20,18,17,19]\n",
        "\n",
        "data_mahasiswa = []\n",
        "\n",
        "for x in range(len(data_nama)):\n",
        "\tdata_mahasiswa.append(Mahasiswa(data_nama[x],data_umur[x]))\n",
        "\tdata_mahasiswa[x].tampilkanData()\n",
        "\n",
        "Mahasiswa.tampilkanJumlah()"
      ],
      "execution_count": 3,
      "outputs": [
        {
          "output_type": "stream",
          "name": "stdout",
          "text": [
            "Nama: Dhaffa, Umur: 19\n",
            "Nama: Deni, Umur: 20\n",
            "Nama: Budi, Umur: 18\n",
            "Nama: Dian, Umur: 17\n",
            "Nama: Mulan, Umur: 19\n",
            "Jumlah mahasiswa adalah 5\n"
          ]
        }
      ]
    }
  ]
}