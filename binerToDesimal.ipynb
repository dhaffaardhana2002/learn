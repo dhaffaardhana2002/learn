{
  "nbformat": 4,
  "nbformat_minor": 0,
  "metadata": {
    "colab": {
      "name": "binerToDesimal.ipynb",
      "provenance": [],
      "authorship_tag": "ABX9TyOrbf5c/Pk/tZZh9w1ZbjSL",
      "include_colab_link": true
    },
    "kernelspec": {
      "name": "python3",
      "display_name": "Python 3"
    },
    "language_info": {
      "name": "python"
    }
  },
  "cells": [
    {
      "cell_type": "markdown",
      "metadata": {
        "id": "view-in-github",
        "colab_type": "text"
      },
      "source": [
        "<a href=\"https://colab.research.google.com/github/dhaffaardhana2002/learn/blob/master/binerToDesimal.ipynb\" target=\"_parent\"><img src=\"https://colab.research.google.com/assets/colab-badge.svg\" alt=\"Open In Colab\"/></a>"
      ]
    },
    {
      "cell_type": "code",
      "metadata": {
        "id": "EpOP7iLP8vz4",
        "colab": {
          "base_uri": "https://localhost:8080/"
        },
        "outputId": "e48715f7-5097-4821-ae96-fe4eaf6950db"
      },
      "source": [
        "def binerToDec(biner):\n",
        "  x = []\n",
        "  hasil = 0\n",
        "  for i,r in enumerate(biner[::-1]):\n",
        "    x.append(2**i)\n",
        "    hasil += x[i]*int(r)\n",
        "  print(hasil)\n",
        "\n",
        "biner = input(\"Nilai biner: \")\n",
        "binerToDec(biner)"
      ],
      "execution_count": 3,
      "outputs": [
        {
          "output_type": "stream",
          "name": "stdout",
          "text": [
            "Nilai biner: 111011\n",
            "59\n"
          ]
        }
      ]
    }
  ]
}